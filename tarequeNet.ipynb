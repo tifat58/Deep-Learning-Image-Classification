{
 "cells": [
  {
   "cell_type": "code",
   "execution_count": 21,
   "metadata": {},
   "outputs": [],
   "source": [
    "import glob\n",
    "import matplotlib\n",
    "import matplotlib.image as mpimg\n",
    "import imageio as im\n",
    "from keras.preprocessing import image\n",
    "from keras.preprocessing.image import ImageDataGenerator\n",
    "from keras.callbacks import ModelCheckpoint\n",
    "import keras\n",
    "from keras.datasets import cifar10\n",
    "from keras.models import Sequential\n",
    "from keras.layers import Dense, Dropout, Flatten\n",
    "from keras.layers import Conv2D, MaxPooling2D, BatchNormalization\n",
    "from keras.optimizers import Adam\n",
    "import LoadDataset as LD\n",
    "import numpy as np\n",
    "import scipy.misc\n",
    "from scipy.misc import imresize\n",
    "from skimage import data, color\n",
    "from skimage.transform import rescale, resize, downscale_local_mean\n",
    "import matplotlib.pyplot as plt"
   ]
  },
  {
   "cell_type": "code",
   "execution_count": 11,
   "metadata": {},
   "outputs": [],
   "source": [
    "# Hyperparameters\n",
    "batch_size = 5\n",
    "num_classes = 2\n",
    "epochs = 3"
   ]
  },
  {
   "cell_type": "code",
   "execution_count": 12,
   "metadata": {},
   "outputs": [
    {
     "name": "stdout",
     "output_type": "stream",
     "text": [
      "Dataset directory added\n",
      "['.DS_Store', 'c7', 'c0', 'c9', 'c8', 'c1', 'c6', 'c3', 'c4', 'c5', 'c2']\n",
      "c0  directory images are fetched!!! \n",
      "c1  directory images are fetched!!! \n"
     ]
    }
   ],
   "source": [
    "\n",
    "load_data = LD.LoadData('/Users/mdabdulkadir/WS1819/ADAI/data') # give the directory address.\n",
    "X_dat ,Y_dat = load_data.generate_data_2cls(['c0', 'c1'])\n",
    "\n",
    "X_dat, Y_dat = load_data.shuffle_data(X_dat,Y_dat)"
   ]
  },
  {
   "cell_type": "code",
   "execution_count": 14,
   "metadata": {},
   "outputs": [
    {
     "data": {
      "text/plain": [
       "(4756, 227, 227, 3)"
      ]
     },
     "execution_count": 14,
     "metadata": {},
     "output_type": "execute_result"
    }
   ],
   "source": [
    "X = np.array(X_dat)\n",
    "Y = np.array(Y_dat)\n",
    "X.shape"
   ]
  },
  {
   "cell_type": "code",
   "execution_count": 15,
   "metadata": {},
   "outputs": [
    {
     "name": "stdout",
     "output_type": "stream",
     "text": [
      "227 227 3\n",
      "(3000, 227, 227, 3)\n"
     ]
    }
   ],
   "source": [
    "(x_train, y_train) = (X[0:3000], Y[0:3000])\n",
    "(x_test, y_test) = (X[3000:], Y[3000:])\n",
    "img_height, img_width, channel = x_train.shape[1],x_train.shape[2],x_train.shape[3]\n",
    "print(img_height, img_width, channel)\n",
    "y_train = keras.utils.to_categorical(y_train, num_classes)\n",
    "y_test = keras.utils.to_categorical(y_test, num_classes)\n",
    "print(x_train.shape)"
   ]
  },
  {
   "cell_type": "code",
   "execution_count": 16,
   "metadata": {},
   "outputs": [],
   "source": [
    "# AlexNet Define the Model\n",
    "model_parmeters ={'number_kernel_conv_1':96,\n",
    "                  'number_kernel_conv_2': 100, \n",
    "                  'number_kernel_conv_3':100,\n",
    "                 'number_kernel_conv_4':100,\n",
    "                 'number_kernel_conv_5':100,\n",
    "                  'number_kernel_conv_6':100,\n",
    "                 'number_kernel_conv_7':100,\n",
    "                 'param_in_1_fully_connected':10000,\n",
    "                 'param_in_2_fully_connected':10000,\n",
    "                 'param_in_3_fully_connected':10000,\n",
    "                 'param_in_4_fully_connected':10000,\n",
    "                 'param_in_5_fully_connected':10000,\n",
    "                 'dropout_1_f_layer':0.2,\n",
    "                 'dropout_1_f_layer':0.4,\n",
    "                 'dropout_1_f_layer':0.3,\n",
    "                 'dropout_1_f_layer':0.3}\n",
    "model = Sequential()\n",
    "# model.add(Conv2D(96, (11,11), strides=(4,4), activation='relu', padding='valid', input_shape=(img_height, img_width, channel,)))\n",
    "# for original Alexnet\n",
    "model.add(Conv2D(5, (3,3), strides=(2,2), activation='relu', padding='same', input_shape=(img_height, img_width, channel,)))\n",
    "model.add(MaxPooling2D(pool_size=(2, 2), strides=(2,2)))\n",
    "# Local Response normalization for Original Alexnet\n",
    "model.add(BatchNormalization())\n",
    "\n",
    "model.add(Conv2D(20, (5,5), activation='relu', padding='same'))\n",
    "model.add(MaxPooling2D(pool_size=(3, 3), strides=(2,2)))\n",
    "# Local Response normalization for Original Alexnet\n",
    "model.add(BatchNormalization())\n",
    "\n",
    "model.add(Conv2D(3, (3,3), activation='relu', padding='same'))\n",
    "model.add(Conv2D(3, (3,3), activation='relu', padding='same'))\n",
    "model.add(Conv2D(3, (3,3), activation='relu', padding='same'))\n",
    "model.add(MaxPooling2D(pool_size=(3, 3), strides=(2,2)))\n",
    "# Local Response normalization for Original Alexnet\n",
    "model.add(BatchNormalization())\n",
    "\n",
    "model.add(Flatten())\n",
    "model.add(Dense(100, activation='relu'))\n",
    "model.add(Dropout(0.2))\n",
    "#model.add(Dense(4096, activation='relu'))\n",
    "#model.add(Dropout(0.5))\n",
    "model.add(Dense(num_classes, activation='softmax'))"
   ]
  },
  {
   "cell_type": "code",
   "execution_count": 37,
   "metadata": {},
   "outputs": [
    {
     "name": "stdout",
     "output_type": "stream",
     "text": [
      "_________________________________________________________________\n",
      "Layer (type)                 Output Shape              Param #   \n",
      "=================================================================\n",
      "conv2d_6 (Conv2D)            (None, 114, 114, 5)       140       \n",
      "_________________________________________________________________\n",
      "max_pooling2d_4 (MaxPooling2 (None, 57, 57, 5)         0         \n",
      "_________________________________________________________________\n",
      "batch_normalization_4 (Batch (None, 57, 57, 5)         20        \n",
      "_________________________________________________________________\n",
      "conv2d_7 (Conv2D)            (None, 57, 57, 20)        2520      \n",
      "_________________________________________________________________\n",
      "max_pooling2d_5 (MaxPooling2 (None, 28, 28, 20)        0         \n",
      "_________________________________________________________________\n",
      "batch_normalization_5 (Batch (None, 28, 28, 20)        80        \n",
      "_________________________________________________________________\n",
      "conv2d_8 (Conv2D)            (None, 28, 28, 3)         543       \n",
      "_________________________________________________________________\n",
      "conv2d_9 (Conv2D)            (None, 28, 28, 3)         84        \n",
      "_________________________________________________________________\n",
      "conv2d_10 (Conv2D)           (None, 28, 28, 3)         84        \n",
      "_________________________________________________________________\n",
      "max_pooling2d_6 (MaxPooling2 (None, 13, 13, 3)         0         \n",
      "_________________________________________________________________\n",
      "batch_normalization_6 (Batch (None, 13, 13, 3)         12        \n",
      "_________________________________________________________________\n",
      "flatten_2 (Flatten)          (None, 507)               0         \n",
      "_________________________________________________________________\n",
      "dense_3 (Dense)              (None, 100)               50800     \n",
      "_________________________________________________________________\n",
      "dropout_2 (Dropout)          (None, 100)               0         \n",
      "_________________________________________________________________\n",
      "dense_4 (Dense)              (None, 2)                 202       \n",
      "=================================================================\n",
      "Total params: 54,485\n",
      "Trainable params: 54,429\n",
      "Non-trainable params: 56\n",
      "_________________________________________________________________\n",
      "Train on 3000 samples, validate on 1756 samples\n",
      "Epoch 1/3\n",
      "3000/3000 [==============================] - 64s 21ms/step - loss: 0.0247 - acc: 0.9920 - val_loss: 0.0140 - val_acc: 0.9954\n",
      "\n",
      "Epoch 00001: val_acc improved from -inf to 0.99544, saving model to best_weights.hdf5\n",
      "Epoch 2/3\n",
      "3000/3000 [==============================] - 63s 21ms/step - loss: 0.0271 - acc: 0.9927 - val_loss: 0.1048 - val_acc: 0.9647\n",
      "\n",
      "Epoch 00002: val_acc did not improve from 0.99544\n",
      "Epoch 3/3\n",
      "3000/3000 [==============================] - 62s 21ms/step - loss: 0.0157 - acc: 0.9943 - val_loss: 0.0727 - val_acc: 0.9721\n",
      "\n",
      "Epoch 00003: val_acc did not improve from 0.99544\n"
     ]
    }
   ],
   "source": [
    "# print the model summary\n",
    "model.summary()\n",
    "\n",
    "# determine Loss function and Optimizer\n",
    "model.compile(loss='categorical_crossentropy',\n",
    "              optimizer=Adam(),\n",
    "              metrics=['accuracy'])\n",
    "\n",
    "# Train the Model\n",
    "#Preprocessing of images \n",
    "\n",
    "checkpointer = ModelCheckpoint(filepath=\"best_weights.hdf5\",\n",
    "                               monitor='val_acc',\n",
    "                               verbose=1,\n",
    "                               save_best_only= True)\n",
    "\n",
    "\n",
    "\n",
    "history = model.fit(x_train, y_train,\n",
    "                              batch_size = batch_size,\n",
    "                              epochs=epochs,\n",
    "                              callbacks=[checkpointer],\n",
    "                              verbose=1,\n",
    "                              validation_data=(x_test, y_test))"
   ]
  },
  {
   "cell_type": "code",
   "execution_count": 18,
   "metadata": {},
   "outputs": [
    {
     "name": "stdout",
     "output_type": "stream",
     "text": [
      "dict_keys(['val_loss', 'val_acc', 'loss', 'acc'])\n"
     ]
    },
    {
     "data": {
      "image/png": "[encoded data removed]",
      "text/plain": [
       "<Figure size 432x288 with 1 Axes>"
      ]
     },
     "metadata": {
      "needs_background": "light"
     },
     "output_type": "display_data"
    },
    {
     "data": {
      "image/png": "[encoded data removed]",
      "text/plain": [
       "<Figure size 432x288 with 1 Axes>"
      ]
     },
     "metadata": {
      "needs_background": "light"
     },
     "output_type": "display_data"
    }
   ],
   "source": [
    "print(history.history.keys())\n",
    "# summarize history for accuracy\n",
    "plt.plot(history.history['acc'])\n",
    "plt.plot(history.history['val_acc'])\n",
    "plt.title('model accuracy')\n",
    "plt.ylabel('accuracy')\n",
    "plt.xlabel('epoch')\n",
    "plt.legend(['train', 'test'], loc='upper left')\n",
    "plt.show()\n",
    "# summarize history for loss\n",
    "plt.plot(history.history['loss'])\n",
    "plt.plot(history.history['val_loss'])\n",
    "plt.title('model loss')\n",
    "plt.ylabel('loss')\n",
    "plt.xlabel('epoch')\n",
    "plt.legend(['train', 'test'], loc='upper left')\n",
    "plt.show()"
   ]
  },
  {
   "cell_type": "code",
   "execution_count": 19,
   "metadata": {},
   "outputs": [
    {
     "name": "stdout",
     "output_type": "stream",
     "text": [
      "Test loss: 0.019442610729433773\n",
      "Test accuracy: 0.9960136674259681\n"
     ]
    }
   ],
   "source": [
    "# Test the model\n",
    "score = model.evaluate(x_test, y_test, verbose=0)\n",
    "print('Test loss:', score[0])\n",
    "print('Test accuracy:', score[1])"
   ]
  },
  {
   "cell_type": "code",
   "execution_count": null,
   "metadata": {},
   "outputs": [],
   "source": []
  }
 ],
 "metadata": {
  "kernelspec": {
   "display_name": "Python 3",
   "language": "python",
   "name": "python3"
  },
  "language_info": {
   "codemirror_mode": {
    "name": "ipython",
    "version": 3
   },
   "file_extension": ".py",
   "mimetype": "text/x-python",
   "name": "python",
   "nbconvert_exporter": "python",
   "pygments_lexer": "ipython3",
   "version": "3.6.6"
  }
 },
 "nbformat": 4,
 "nbformat_minor": 2
}
